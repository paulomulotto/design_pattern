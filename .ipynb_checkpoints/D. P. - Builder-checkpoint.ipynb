{
 "cells": [
  {
   "cell_type": "markdown",
   "metadata": {},
   "source": [
    "# Builder\n",
    "Builders são utilizados para facilitar a construção de objectos.\n",
    "\n",
    "No caso de Builder Inheritance é criado uma herança de contrutores. Dessa forma é possível invocar os construtores gradativamente de acordo com seus respectivos escopos."
   ]
  },
  {
   "cell_type": "markdown",
   "metadata": {},
   "source": [
    "### Coding Exercise"
   ]
  },
  {
   "cell_type": "code",
   "execution_count": 10,
   "metadata": {},
   "outputs": [],
   "source": [
    "class Indent:\n",
    "    size = 2\n",
    "    \n",
    "class FieldElement:\n",
    "    def __init__(self, name='', valor=''):\n",
    "        self.name = name\n",
    "        self.valor = valor\n",
    "        \n",
    "        \n",
    "    def __str__(self):\n",
    "        return f'{self.name} = {self.valor}'\n",
    "    \n",
    "    \n",
    "class CodeElement:\n",
    "    def __init__(self, root_name=''):\n",
    "        self.root_name = root_name\n",
    "        self.fields = []\n",
    "        \n",
    "    \n",
    "    def __str(self, indent=0):\n",
    "        lines = []\n",
    "        \n",
    "        lines.append(f'class {self.root_name}:')\n",
    "        i = ' ' * (indent+1*Indent.size)\n",
    "        if self.fields:\n",
    "            lines.append(f'{i}def __init__(self):')\n",
    "        else:\n",
    "            lines.append(f'{i}pass')\n",
    "            \n",
    "        # fields\n",
    "        i = ' ' * (indent+2*Indent.size)\n",
    "        for field in self.fields:\n",
    "            lines.append(f'{i}{field}')\n",
    "        \n",
    "        return '\\n'.join(lines)\n",
    "        \n",
    "        \n",
    "    def __str__(self):\n",
    "        return self.__str()\n",
    "    \n",
    "    @staticmethod\n",
    "    def create(root_name):\n",
    "        return learnCodeBuilder(root_name)\n",
    "        \n",
    "        \n",
    "\n",
    "class CodeBuilder:\n",
    "    def __init__(self, root_name):\n",
    "        self.code_element = CodeElement(root_name)\n",
    "        \n",
    "        \n",
    "\n",
    "    def add_field(self, _type, name):\n",
    "        self.code_element.fields.append(\n",
    "            FieldElement(_type, name)\n",
    "        )\n",
    "        return self\n",
    "        \n",
    "    def clear(self):\n",
    "        self.code_element = CodeElement(root_name=self.root_name)\n",
    "        \n",
    "    def __str__(self):\n",
    "        return str(self.code_element)"
   ]
  },
  {
   "cell_type": "code",
   "execution_count": 11,
   "metadata": {},
   "outputs": [
    {
     "name": "stdout",
     "output_type": "stream",
     "text": [
      "class Person:\n",
      "  def __init__(self):\n",
      "    name = \"\"\n",
      "    age = 0\n"
     ]
    }
   ],
   "source": [
    "cb = CodeBuilder('Person')\n",
    "cb.add_field('name', '\"\"')\\\n",
    "    .add_field('age', '0')\n",
    "print(cb)"
   ]
  }
 ],
 "metadata": {
  "kernelspec": {
   "display_name": "Python 3",
   "language": "python",
   "name": "python3"
  },
  "language_info": {
   "codemirror_mode": {
    "name": "ipython",
    "version": 3
   },
   "file_extension": ".py",
   "mimetype": "text/x-python",
   "name": "python",
   "nbconvert_exporter": "python",
   "pygments_lexer": "ipython3",
   "version": "3.6.9"
  }
 },
 "nbformat": 4,
 "nbformat_minor": 2
}
