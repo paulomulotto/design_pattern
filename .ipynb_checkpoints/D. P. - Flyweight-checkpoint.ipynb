{
 "cells": [
  {
   "cell_type": "markdown",
   "metadata": {},
   "source": [
    "# D. P. - Flyweight\n",
    "Flyweight é um padrão de projeto de software apropriado quando vários objetos devem ser manipulados em memória sendo que muitos deles possuem informações repetidas.\n",
    "\n",
    "1 - Armazenar dados comuns externamente\n",
    "\n",
    "2 - Especificar index ou referência para os dados armazenados\n",
    "\n",
    "3 - Definir ranges em coleções homogêneas e armazenar o dado relacionado aos ranges"
   ]
  },
  {
   "cell_type": "markdown",
   "metadata": {},
   "source": [
    "Coding Exercise"
   ]
  },
  {
   "cell_type": "code",
   "execution_count": 28,
   "metadata": {},
   "outputs": [],
   "source": [
    "class Sentence:\n",
    "    def __init__(self, plain_text):\n",
    "        self.words = plain_text.split(\" \")\n",
    "        self.position = []\n",
    "        \n",
    "    def __getitem__(self, index):\n",
    "        return self.get_position(index)\n",
    "        \n",
    "        \n",
    "    class WordPosition:\n",
    "        def __init__(self, position, capitalize=False):\n",
    "            self.position = position\n",
    "            self.capitalize = capitalize\n",
    "            \n",
    "        def covers(self, position):\n",
    "            return self.position == position\n",
    "            \n",
    "    def get_position(self, position):\n",
    "        position = self.WordPosition(position)\n",
    "        self.position.append(position)\n",
    "        return position\n",
    "    \n",
    "\n",
    "    def __str__(self):\n",
    "        result = []\n",
    "        for i in range(len(self.words)):\n",
    "            w = self.words[i]\n",
    "            for p in self.position:\n",
    "                if p.covers(i):\n",
    "                    w = w.upper()\n",
    "            result.append(w)\n",
    "        return ' '.join(result)\n",
    "        \n"
   ]
  },
  {
   "cell_type": "code",
   "execution_count": 27,
   "metadata": {},
   "outputs": [
    {
     "name": "stdout",
     "output_type": "stream",
     "text": [
      "hello WORLD\n"
     ]
    }
   ],
   "source": [
    "sentence = Sentence(\"hello world\")\n",
    "sentence[1].capitalie = True\n",
    "print(sentence)"
   ]
  }
 ],
 "metadata": {
  "kernelspec": {
   "display_name": "Python 3",
   "language": "python",
   "name": "python3"
  },
  "language_info": {
   "codemirror_mode": {
    "name": "ipython",
    "version": 3
   },
   "file_extension": ".py",
   "mimetype": "text/x-python",
   "name": "python",
   "nbconvert_exporter": "python",
   "pygments_lexer": "ipython3",
   "version": "3.6.9"
  }
 },
 "nbformat": 4,
 "nbformat_minor": 2
}
