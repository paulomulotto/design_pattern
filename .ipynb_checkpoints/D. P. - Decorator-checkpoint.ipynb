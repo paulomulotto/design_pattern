{
 "cells": [
  {
   "cell_type": "markdown",
   "metadata": {},
   "source": [
    "# Decorator\n",
    "\n",
    "Facilita comportamentos adicionais com objetos sem utilizar herança.<br>\n",
    "\n",
    "**Motivações:**<br>\n",
    "Adicionar funcionalidades a uma classe.<br>\n",
    "Não reescrever ou alterar códigos existentes (OCP)<br>\n",
    "Manter a nova funcionalidade separada<br>\n",
    "Ser capaz de interagir com estruturas existentes<br>\n"
   ]
  },
  {
   "cell_type": "code",
   "execution_count": null,
   "metadata": {},
   "outputs": [],
   "source": []
  }
 ],
 "metadata": {
  "kernelspec": {
   "display_name": "Python 3",
   "language": "python",
   "name": "python3"
  },
  "language_info": {
   "codemirror_mode": {
    "name": "ipython",
    "version": 3
   },
   "file_extension": ".py",
   "mimetype": "text/x-python",
   "name": "python",
   "nbconvert_exporter": "python",
   "pygments_lexer": "ipython3",
   "version": "3.6.9"
  }
 },
 "nbformat": 4,
 "nbformat_minor": 2
}
