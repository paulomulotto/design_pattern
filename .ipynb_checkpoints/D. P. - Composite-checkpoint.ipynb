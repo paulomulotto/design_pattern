{
 "cells": [
  {
   "cell_type": "markdown",
   "metadata": {},
   "source": [
    "# Composite\n",
    "\n",
    "Tratar objetos individuais e agregações de forma uniforme. <br>\n",
    "\n",
    "**Motivações**<br>\n",
    "Objetos utilização propriedades de outros objetos/membros através de herança e composição\n",
    "Composição permite a criação de objetos compostos\n",
    "    Ex: expressões matemáticas compostas por expressões simples\n",
    "        Agrupamento de formatos que consistem e vários formatos\n"
   ]
  },
  {
   "cell_type": "markdown",
   "metadata": {},
   "source": [
    "### Composite Coding Exercise"
   ]
  },
  {
   "cell_type": "code",
   "execution_count": 55,
   "metadata": {},
   "outputs": [],
   "source": [
    "from abc import ABC\n",
    "from collections.abc import Iterable\n",
    "\n",
    "class Summ(ABC, Iterable):\n",
    "    @property\n",
    "    def sum(self):\n",
    "        result = 0\n",
    "        for c in self:\n",
    "            for i in c:\n",
    "                result += i\n",
    "        return result\n",
    "            \n",
    "        \n",
    "class SingleValue(Summ):\n",
    "    def __init__(self, value):\n",
    "        self.value = value\n",
    "        \n",
    "    def __iter__(self):\n",
    "        yield self.value\n",
    "\n",
    "class ManyValues(list, Summ):\n",
    "    pass"
   ]
  },
  {
   "cell_type": "code",
   "execution_count": 56,
   "metadata": {},
   "outputs": [],
   "source": [
    "from unittest import TestCase\n",
    "class Evaluate(TestCase):\n",
    "    def test_exercise(self):\n",
    "        single_value = SingleValue(11)\n",
    "        other_values = ManyValues()\n",
    "        other_values.append(22)\n",
    "        other_values.append(33)\n",
    "        # make a list of all values\n",
    "        all_values = ManyValues()\n",
    "        all_values.append(single_value)\n",
    "        all_values.append(other_values)\n",
    "        self.assertEqual(all_values.sum, 66)"
   ]
  },
  {
   "cell_type": "code",
   "execution_count": 57,
   "metadata": {},
   "outputs": [],
   "source": [
    "Evaluate().test_exercise()"
   ]
  }
 ],
 "metadata": {
  "kernelspec": {
   "display_name": "Python 3",
   "language": "python",
   "name": "python3"
  },
  "language_info": {
   "codemirror_mode": {
    "name": "ipython",
    "version": 3
   },
   "file_extension": ".py",
   "mimetype": "text/x-python",
   "name": "python",
   "nbconvert_exporter": "python",
   "pygments_lexer": "ipython3",
   "version": "3.6.9"
  }
 },
 "nbformat": 4,
 "nbformat_minor": 2
}
