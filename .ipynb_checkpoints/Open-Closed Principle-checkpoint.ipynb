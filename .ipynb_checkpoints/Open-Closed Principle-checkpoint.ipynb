{
 "cells": [
  {
   "cell_type": "markdown",
   "metadata": {},
   "source": [
    "### Definição dos objetos\n",
    "Inicialmente será criado as classes fundamentais dos objetos que iremos trabalhar\n",
    "\n",
    "A classe Categoria representa as categorias existentes de equipamentos de TI\n",
    "A classe SistemOp represeta os tipos de sistema operacional\n",
    "A classe Equipamento representa os equipamentos de classe Categoria e SistemaOp"
   ]
  },
  {
   "cell_type": "code",
   "execution_count": 57,
   "metadata": {},
   "outputs": [],
   "source": [
    "from enum import Enum\n",
    "\n",
    "\n",
    "class Categoria(Enum):\n",
    "    NOTEBOOK = 1\n",
    "    DESKTOP = 2\n",
    "    SERVIDOR = 3\n",
    "    VM = 4\n",
    "    \n",
    "class SistemaOp(Enum):\n",
    "    WINDOWS = 1\n",
    "    LINUX = 2\n",
    "    \n",
    "\n",
    "class Equipamento:\n",
    "    def __init__(self, name, sistema, categoria):\n",
    "        self.name = name\n",
    "        self.sistema = sistema\n",
    "        self.categoria = categoria\n",
    "        \n"
   ]
  },
  {
   "cell_type": "markdown",
   "metadata": {},
   "source": [
    "### Criação dos filtros\n",
    "Será criado duas classes genéricas Especificacao e Filtro.\n",
    "\n",
    "A classe Especificacao é responsável por tornar genérica as especificações, possibilitando todas as especificações novas serem herdeiras dela.\n",
    "\n",
    "A classe Filtro é responsável por tornar genérico os filtros, possibilitando todos os novos filtros serem herdeiros de Filtro"
   ]
  },
  {
   "cell_type": "code",
   "execution_count": 58,
   "metadata": {},
   "outputs": [],
   "source": [
    "\n",
    "class Especificacao:\n",
    "    def is_satisfied(self, equipamento):\n",
    "        pass\n",
    "\n",
    "    # and operator makes life easier\n",
    "    def __and__(self, other):\n",
    "        return AndEspecificacao(self, other)\n",
    "\n",
    "\n",
    "class Filtro:\n",
    "    def filtro(self, equipamentos, spec):\n",
    "        pass\n",
    "\n",
    "    \n",
    "class CategoriaEspecificacao(Especificacao):\n",
    "    def __init__(self, categoria):\n",
    "        self.categoria = categoria\n",
    "        \n",
    "    def is_satisfied(self, equipamento):\n",
    "        return equipamento.categoria == self.categoria\n",
    "    \n",
    "    \n",
    "class SistemaOpEspecificacao(Especificacao):\n",
    "    def __init__(self, sistema):\n",
    "        self.sistema = sistema\n",
    "        \n",
    "    def is_satisfied(self, equipamento):\n",
    "        return equipamento.sistema == self.sistema\n",
    "    \n",
    "\n",
    "class FiltroIter(Filtro):\n",
    "    '''\n",
    "        Realiza o filtro com uma determinada especificacao iterando sobre os objetos\n",
    "    '''\n",
    "    def filtro(self, equipamentos, spec):\n",
    "        for eqp in equipamentos:\n",
    "            print(eqp.name)\n",
    "            if spec.is_satisfied(eqp):\n",
    "                yield eqp"
   ]
  },
  {
   "cell_type": "markdown",
   "metadata": {},
   "source": [
    "### Criação dos Equipamentos"
   ]
  },
  {
   "cell_type": "code",
   "execution_count": 60,
   "metadata": {},
   "outputs": [],
   "source": [
    "notebook = Equipamento('Acer Aspire VX', SistemaOp.WINDOWS, Categoria.NOTEBOOK)\n",
    "servidor = Equipamento('SGGXP00123VIX', SistemaOp.LINUX, Categoria.SERVIDOR)\n",
    "vm1 = Equipamento('SGGXP00121CLD', SistemaOp.LINUX, Categoria.VM)\n",
    "vm2 = Equipamento('SGGXP00122CLD', SistemaOp.LINUX, Categoria.VM)\n",
    "\n",
    "equipamentos = [notebook, servidor, vm1, vm2]"
   ]
  },
  {
   "cell_type": "markdown",
   "metadata": {},
   "source": [
    "### Filtro dos equipamentos"
   ]
  },
  {
   "cell_type": "code",
   "execution_count": 61,
   "metadata": {},
   "outputs": [],
   "source": [
    "f = FiltroIter()"
   ]
  },
  {
   "cell_type": "code",
   "execution_count": 62,
   "metadata": {},
   "outputs": [
    {
     "name": "stdout",
     "output_type": "stream",
     "text": [
      "Equipamentos Windows:\n",
      "Acer Aspire VX\n",
      " - Acer Aspire VX is windows\n",
      "SGGXP00123VIX\n",
      "SGGXP00121CLD\n",
      "SGGXP00122CLD\n"
     ]
    }
   ],
   "source": [
    "print('Equipamentos Windows:')\n",
    "windows = SistemaOpEspecificacao(SistemaOp.WINDOWS)\n",
    "for p in f.filtro(equipamentos, windows):\n",
    "    print(f' - {p.name} is windows')"
   ]
  },
  {
   "cell_type": "code",
   "execution_count": 63,
   "metadata": {},
   "outputs": [
    {
     "name": "stdout",
     "output_type": "stream",
     "text": [
      "Equipamentos Notebook:\n",
      "Acer Aspire VX\n",
      " - Acer Aspire VX is notebook\n",
      "SGGXP00123VIX\n",
      "SGGXP00121CLD\n",
      "SGGXP00122CLD\n"
     ]
    }
   ],
   "source": [
    "print('Equipamentos Notebook:')\n",
    "notebook = CategoriaEspecificacao(Categoria.NOTEBOOK)\n",
    "for p in f.filtro(equipamentos, notebook):\n",
    "    print(f' - {p.name} is notebook')"
   ]
  },
  {
   "cell_type": "markdown",
   "metadata": {},
   "source": [
    "### E se realizarmos quisermos filtrar pro mais de uma categoria?"
   ]
  },
  {
   "cell_type": "markdown",
   "metadata": {},
   "source": [
    "#### Conceitos Básicos (map, all, lambda)"
   ]
  },
  {
   "cell_type": "markdown",
   "metadata": {},
   "source": [
    "**map**\n",
    "\n",
    "*map aplica uma determinada função em cada elemento da lista*"
   ]
  },
  {
   "cell_type": "code",
   "execution_count": 100,
   "metadata": {},
   "outputs": [
    {
     "data": {
      "text/plain": [
       "[1.0, 2.0, 3.0]"
      ]
     },
     "execution_count": 100,
     "metadata": {},
     "output_type": "execute_result"
    }
   ],
   "source": [
    "import math\n",
    "nums = [1,4,9]\n",
    "list(map(math.sqrt, nums))"
   ]
  },
  {
   "cell_type": "markdown",
   "metadata": {},
   "source": [
    "**all**\n",
    "\n",
    "*Retorna True se todos os elementos do iterável forem verdadeiros*"
   ]
  },
  {
   "cell_type": "code",
   "execution_count": 101,
   "metadata": {},
   "outputs": [
    {
     "name": "stdout",
     "output_type": "stream",
     "text": [
      "Tem algum impar\n"
     ]
    }
   ],
   "source": [
    "listaDeInteiros = [2, 6, 4, 7, -2]\n",
    "if all(i % 2 == 0 for i in listaDeInteiros):\n",
    "    print('Todos sao pares')\n",
    "else:\n",
    "    print('Tem algum impar')"
   ]
  },
  {
   "cell_type": "markdown",
   "metadata": {},
   "source": [
    "**lambda**\n",
    "\n",
    "*Definição de funções anonimas, ou seja, que não precisam ser explicitamente declaradas*"
   ]
  },
  {
   "cell_type": "code",
   "execution_count": 102,
   "metadata": {},
   "outputs": [
    {
     "data": {
      "text/plain": [
       "3"
      ]
     },
     "execution_count": 102,
     "metadata": {},
     "output_type": "execute_result"
    }
   ],
   "source": [
    "(lambda x,y: x+y)(1,2)"
   ]
  },
  {
   "cell_type": "markdown",
   "metadata": {},
   "source": [
    "#### Criação do filtro AND\n",
    "O objetivo desse filtro, é realizar o AND entre todas as especificações, retornando apenas os dispositivos com todas as características desejadas"
   ]
  },
  {
   "cell_type": "code",
   "execution_count": 5,
   "metadata": {},
   "outputs": [],
   "source": [
    "class AndEspecificacao(Especificacao):\n",
    "    def __init__(self, *args):\n",
    "        self.args = args\n",
    "\n",
    "    def is_satisfied(self, item):\n",
    "        return all(map(\n",
    "            lambda espec: espec.is_satisfied(item), self.args))"
   ]
  },
  {
   "cell_type": "code",
   "execution_count": 6,
   "metadata": {},
   "outputs": [
    {
     "name": "stdout",
     "output_type": "stream",
     "text": [
      "Acer Aspire VX\n",
      " - Acer Aspire VX is notebook\n",
      "SGGXP00123VIX\n",
      "SGGXP00121CLD\n",
      "SGGXP00122CLD\n"
     ]
    }
   ],
   "source": [
    "windows = SistemaOpEspecificacao(SistemaOp.WINDOWS)\n",
    "notebook = CategoriaEspecificacao(Categoria.NOTEBOOK)\n",
    "windows_notebook = AndEspecificacao(windows, notebook)\n",
    "\n",
    "for p in f.filtro(equipamentos, windows_notebook):\n",
    "    print(f' - {p.name} is notebook')"
   ]
  },
  {
   "cell_type": "markdown",
   "metadata": {},
   "source": [
    "### Legal, agora seu gerente de projetos solicitou mais um tipo de filtro. Além das classificações existentes, teremos um novo tipo de Servidor na AWS, com a caracteristica de \"Tamanho\". \n",
    "\n",
    "### Consequentemente, o desejo agora é filtrar por tamanho de máquina, quando forem equipamentos da AWS.  Qual a melhor forma de realizar o procedimento?\n",
    "\n",
    "Visto que as funcionalidades acimas já foram validadas e testadas, elas não devem mais ser alteradas. É por isso que a generalização é importante.\n",
    "\n",
    "Veja como podemos realizar a adiação desse filtro, sem alterar as features já validadas"
   ]
  },
  {
   "cell_type": "code",
   "execution_count": 52,
   "metadata": {},
   "outputs": [],
   "source": [
    "class EquipamentoAws(Equipamento):\n",
    "    def __init__(self, name, sistema, categoria, tamanho):\n",
    "        super().__init__(name, sistema, categoria)\n",
    "        self.tamanho = tamanho #Campo Adicionado\n",
    "        \n",
    "class Tamanho(Enum):\n",
    "    GRANDE = 1\n",
    "    MEDIO = 2\n",
    "    PEQUENO = 3\n",
    "    \n",
    "    \n",
    "class TamanhoEspecificacao(Especificacao):\n",
    "    def __init__(self, tamanho):\n",
    "        self.tamanho = tamanho\n",
    "        \n",
    "    def is_satisfied(self, equipamento):\n",
    "        return equipamento.tamanho == self.tamanho"
   ]
  },
  {
   "cell_type": "code",
   "execution_count": 68,
   "metadata": {},
   "outputs": [],
   "source": [
    "servidor_aws = EquipamentoAws('SGGXP00345AWS', SistemaOp.WINDOWS, Categoria.SERVIDOR,\n",
    "                              Tamanho.GRANDE)\n",
    "vm_aws = EquipamentoAws('SGGXP00451AWS', SistemaOp.LINUX, Categoria.VM,\n",
    "                               Tamanho.MEDIO)\n",
    "\n",
    "\n",
    "equipamentos = [notebook, servidor, vm1, vm2, servidor_aws, vm_aws]\n",
    "equipamentos_aws = [servidor_aws, vm_aws]"
   ]
  },
  {
   "cell_type": "code",
   "execution_count": 113,
   "metadata": {},
   "outputs": [],
   "source": [
    "class FiltroAws(FiltroIter):\n",
    "        \n",
    "        \n",
    "    def filtro(self, equipamentos, espec):\n",
    "#         equipamentos_aws = [eqp for eqp in equipamentos \n",
    "#                                 if type(eqp).__name__ == 'EquipamentoAws']\n",
    "\n",
    "        super().filtro(equipamentos, espec_filtro)\n",
    "#         for eqp in equipamentos:\n",
    "#             print(eqp.name)\n",
    "#             if espec.is_satisfied(eqp):\n",
    "#                 yield eqp\n",
    "    "
   ]
  },
  {
   "cell_type": "code",
   "execution_count": 114,
   "metadata": {},
   "outputs": [
    {
     "name": "stdout",
     "output_type": "stream",
     "text": [
      "None\n"
     ]
    },
    {
     "ename": "TypeError",
     "evalue": "'NoneType' object is not iterable",
     "output_type": "error",
     "traceback": [
      "\u001b[0;31m---------------------------------------------------------------------------\u001b[0m",
      "\u001b[0;31mTypeError\u001b[0m                                 Traceback (most recent call last)",
      "\u001b[0;32m<ipython-input-114-ddf3b4294388>\u001b[0m in \u001b[0;36m<module>\u001b[0;34m\u001b[0m\n\u001b[1;32m      8\u001b[0m \u001b[0mprint\u001b[0m\u001b[0;34m(\u001b[0m\u001b[0mf_aws\u001b[0m\u001b[0;34m.\u001b[0m\u001b[0mfiltro\u001b[0m\u001b[0;34m(\u001b[0m\u001b[0mequipamentos_aws\u001b[0m\u001b[0;34m,\u001b[0m \u001b[0mespec_filtro\u001b[0m\u001b[0;34m)\u001b[0m\u001b[0;34m)\u001b[0m\u001b[0;34m\u001b[0m\u001b[0;34m\u001b[0m\u001b[0m\n\u001b[1;32m      9\u001b[0m \u001b[0;34m\u001b[0m\u001b[0m\n\u001b[0;32m---> 10\u001b[0;31m \u001b[0;32mfor\u001b[0m \u001b[0mp\u001b[0m \u001b[0;32min\u001b[0m \u001b[0mf_aws\u001b[0m\u001b[0;34m.\u001b[0m\u001b[0mfiltro\u001b[0m\u001b[0;34m(\u001b[0m\u001b[0mequipamentos_aws\u001b[0m\u001b[0;34m,\u001b[0m \u001b[0mespec_filtro\u001b[0m\u001b[0;34m)\u001b[0m\u001b[0;34m:\u001b[0m\u001b[0;34m\u001b[0m\u001b[0;34m\u001b[0m\u001b[0m\n\u001b[0m\u001b[1;32m     11\u001b[0m     \u001b[0mprint\u001b[0m\u001b[0;34m(\u001b[0m\u001b[0;34mf' - {p.name} is AWS, Large'\u001b[0m\u001b[0;34m)\u001b[0m\u001b[0;34m\u001b[0m\u001b[0;34m\u001b[0m\u001b[0m\n",
      "\u001b[0;31mTypeError\u001b[0m: 'NoneType' object is not iterable"
     ]
    }
   ],
   "source": [
    "windows = SistemaOpEspecificacao(SistemaOp.WINDOWS)\n",
    "servidor = CategoriaEspecificacao(Categoria.SERVIDOR)\n",
    "grande = TamanhoEspecificacao(Tamanho.GRANDE)\n",
    "espec_filtro = AndEspecificacao(windows, servidor, grande)\n",
    "\n",
    "f_aws = FiltroAws()\n",
    "\n",
    "print(f_aws.filtro(equipamentos_aws, espec_filtro))\n",
    "\n",
    "for p in f_aws.filtro(equipamentos_aws, espec_filtro):\n",
    "    print(f' - {p.name} is AWS, Large')"
   ]
  },
  {
   "cell_type": "code",
   "execution_count": 37,
   "metadata": {},
   "outputs": [
    {
     "data": {
      "text/plain": [
       "<__main__.AndEspecificacao at 0x7f52c03a6390>"
      ]
     },
     "execution_count": 37,
     "metadata": {},
     "output_type": "execute_result"
    }
   ],
   "source": [
    "espec_filtro"
   ]
  },
  {
   "cell_type": "code",
   "execution_count": 34,
   "metadata": {},
   "outputs": [
    {
     "data": {
      "text/plain": [
       "[<__main__.EquipamentoAws at 0x7f52c03a6358>,\n",
       " <__main__.EquipamentoAws at 0x7f52c03a6320>]"
      ]
     },
     "execution_count": 34,
     "metadata": {},
     "output_type": "execute_result"
    }
   ],
   "source": [
    "[eqp for eqp in equipamentos if type(eqp).__name__ == 'EquipamentoAws']"
   ]
  }
 ],
 "metadata": {
  "kernelspec": {
   "display_name": "Python 3",
   "language": "python",
   "name": "python3"
  },
  "language_info": {
   "codemirror_mode": {
    "name": "ipython",
    "version": 3
   },
   "file_extension": ".py",
   "mimetype": "text/x-python",
   "name": "python",
   "nbconvert_exporter": "python",
   "pygments_lexer": "ipython3",
   "version": "3.6.9"
  }
 },
 "nbformat": 4,
 "nbformat_minor": 2
}
