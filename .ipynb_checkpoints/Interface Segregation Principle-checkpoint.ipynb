{
 "cells": [
  {
   "cell_type": "markdown",
   "metadata": {},
   "source": [
    "# Interface Segregation"
   ]
  },
  {
   "cell_type": "markdown",
   "metadata": {},
   "source": [
    "Imagine o cenário onde você possui diversos tipos de Celulares, com as funcionalidades sms, smart, wifi e bluetooth."
   ]
  },
  {
   "cell_type": "code",
   "execution_count": 39,
   "metadata": {},
   "outputs": [],
   "source": [
    "class Celular:\n",
    "    def sms(self, numero):\n",
    "        raise NotImplementatedError()\n",
    "        \n",
    "    def smart(self):\n",
    "        raise NotImplementatedError()\n",
    "    \n",
    "    def wifi(self, rede):\n",
    "        raise NotImplementatedError()\n",
    "        \n",
    "    def bluetooth(self, equipamento):\n",
    "        raise NotImplementatedError()    "
   ]
  },
  {
   "cell_type": "markdown",
   "metadata": {},
   "source": [
    "A partir desta classe, podemos criar classes mais especificas."
   ]
  },
  {
   "cell_type": "code",
   "execution_count": 40,
   "metadata": {},
   "outputs": [],
   "source": [
    "class Galaxy(Celular):\n",
    "    def sms(self, numero):\n",
    "        print(f'Envio do SMS com sucesso para {numero}')\n",
    "        \n",
    "    def smart(self):\n",
    "        print(\"Hi, sou Smart\")\n",
    "        \n",
    "    def wifi(self, rede):\n",
    "        print(f'Conectado nada {rede}')\n",
    "        \n",
    "    def bluetooth(self, equipamento):\n",
    "        print(f'Pareado com {equipamento}')"
   ]
  },
  {
   "cell_type": "markdown",
   "metadata": {},
   "source": [
    "Neste exemplo, podemos ver que conseguimos criar uma classe que podemos instanciar todos os objetos que são celulares Galaxy a partir de Celular sem problemas."
   ]
  },
  {
   "cell_type": "markdown",
   "metadata": {},
   "source": [
    "Agora image imagine um celular que não tenha a funcionalidade de Bluetooth."
   ]
  },
  {
   "cell_type": "code",
   "execution_count": 41,
   "metadata": {},
   "outputs": [],
   "source": [
    "class OldCelular(Celular):\n",
    "    def sms(self, numero):\n",
    "        print(f'Envio de SMS com sucesso para {numero} (OLD)')\n",
    "        \n",
    "    def smart(self):\n",
    "        \"\"\"Not supported!\"\"\"\n",
    "        raise NotImplementedError('OldCelular não é SMART!')\n",
    "        \n",
    "    def wifi(self, rede):\n",
    "        \"\"\"Not supported!\"\"\"\n",
    "        raise NotImplementedError('OldCelular não é SMART!')\n",
    "        \n",
    "    def bluetooth(self, equipamento):\n",
    "        \"\"\"Not supported!\"\"\"\n",
    "        raise NotImplementedError('OldCelular não é SMART!')"
   ]
  },
  {
   "cell_type": "markdown",
   "metadata": {},
   "source": [
    "Perceba que a classe OldCelular precisou reescrever métodos que não são pertinentes aos seus objetos. Isso ocorre devido a sobrecarga de interfaces em uma única classe."
   ]
  },
  {
   "cell_type": "markdown",
   "metadata": {},
   "source": [
    "Para evitar este tipo de problema, precisamos segregar melhor as interfaces"
   ]
  },
  {
   "cell_type": "code",
   "execution_count": 42,
   "metadata": {},
   "outputs": [],
   "source": [
    "from abc import abstractmethod\n",
    "\n",
    "class BasicCelular:\n",
    "    @abstractmethod\n",
    "    def sms(self, numero): pass\n",
    "    \n",
    "\n",
    "class SmartPhone:\n",
    "    @abstractmethod\n",
    "    def smart(self): pass\n",
    "    \n",
    "    @abstractmethod\n",
    "    def smart(self): pass\n",
    "        \n",
    "    @abstractmethod\n",
    "    def wifi(self, rede): pass\n",
    "        \n",
    "    @abstractmethod\n",
    "    def bluetooth(self, equipamento): pass\n",
    "    "
   ]
  },
  {
   "cell_type": "markdown",
   "metadata": {},
   "source": [
    "Assim, podemos utilizar as intefaces segregadas para construir os objetos criados anteriormente, sem redefinição de métodos desnecessários"
   ]
  },
  {
   "cell_type": "code",
   "execution_count": 43,
   "metadata": {},
   "outputs": [],
   "source": [
    "class GalaxyN(BasicCelular, SmartPhone):\n",
    "    def sms(self, numero):\n",
    "        print(f'Envio do SMS com sucesso para {numero}')\n",
    "        \n",
    "    def smart(self):\n",
    "        print(\"Hi, sou Smart\")\n",
    "        \n",
    "    def wifi(self, rede):\n",
    "        print(f'Conectado nada {rede}')\n",
    "        \n",
    "    def bluetooth(self, equipamento):\n",
    "        print(f'Pareado com {equipamento}')\n",
    "        \n",
    "    \n",
    "class OldCelularN(BasicCelular):\n",
    "    def sms(self, numero):\n",
    "        print(f'Envio de SMS com sucesso para {numero} (OLD)')"
   ]
  },
  {
   "cell_type": "code",
   "execution_count": 44,
   "metadata": {},
   "outputs": [
    {
     "name": "stdout",
     "output_type": "stream",
     "text": [
      "Envio do SMS com sucesso para 984561235\n",
      "Pareado com Fone\n"
     ]
    }
   ],
   "source": [
    "galaxy_s9 = GalaxyN()\n",
    "galaxy_s9.sms(numero='984561235')\n",
    "galaxy_s9.bluetooth('Fone')"
   ]
  },
  {
   "cell_type": "code",
   "execution_count": 45,
   "metadata": {},
   "outputs": [
    {
     "name": "stdout",
     "output_type": "stream",
     "text": [
      "Envio de SMS com sucesso para 984561235 (OLD)\n"
     ]
    }
   ],
   "source": [
    "old = OldCelularN()\n",
    "old.sms(numero='984561235')\n",
    "# old.bluetooth() --> OldCelularN' object has no attribute 'bluetooth'"
   ]
  }
 ],
 "metadata": {
  "kernelspec": {
   "display_name": "Python 3",
   "language": "python",
   "name": "python3"
  },
  "language_info": {
   "codemirror_mode": {
    "name": "ipython",
    "version": 3
   },
   "file_extension": ".py",
   "mimetype": "text/x-python",
   "name": "python",
   "nbconvert_exporter": "python",
   "pygments_lexer": "ipython3",
   "version": "3.6.9"
  }
 },
 "nbformat": 4,
 "nbformat_minor": 2
}
