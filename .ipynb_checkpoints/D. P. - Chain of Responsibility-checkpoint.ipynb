{
 "cells": [
  {
   "cell_type": "markdown",
   "metadata": {},
   "source": [
    "# Chain of Responsibility\n",
    "\n",
    "Evitar dependências entre um objeto receptor e um objeto solicitante"
   ]
  },
  {
   "cell_type": "code",
   "execution_count": 15,
   "metadata": {},
   "outputs": [],
   "source": [
    "class Servidor:\n",
    "    def __init__(self, hostname, os_ver, os_type):\n",
    "        self.hostname = hostname\n",
    "        self.os_ver = os_ver\n",
    "        self.os_type = os_type\n",
    "        \n",
    "    def __str__(self):\n",
    "        return f'{self.hostname} ({self.os_type} - {self.os_ver})'\n",
    "    "
   ]
  },
  {
   "cell_type": "code",
   "execution_count": 29,
   "metadata": {},
   "outputs": [],
   "source": [
    "class ServidorModifier:\n",
    "    def __init__(self, servidor):\n",
    "        self.servidor = servidor\n",
    "        self.next_modifer = None\n",
    "        \n",
    "    def add_modifier(self, modifier, ):\n",
    "        if self.next_modifer:\n",
    "            self.next_modifer.add_modifier(modifier)\n",
    "        else:\n",
    "            self.next_modifier = modifier\n",
    "        \n",
    "    def handle(self):\n",
    "        if self.next_modifer:\n",
    "            self.next_modifier.handle()            "
   ]
  },
  {
   "cell_type": "code",
   "execution_count": 23,
   "metadata": {},
   "outputs": [],
   "source": [
    "class OsVerModifer(ServidorModifier):\n",
    "    def handle(self, n_os_ver):\n",
    "        print(\"Alterando os ver\")\n",
    "        self.servidor.os_ver = n_os_ver\n",
    "        super().handle()\n",
    "        \n",
    "class OsTypeModifer(ServidorModifier):\n",
    "    def handle(self, n_os_type):\n",
    "        print(\"Alterando os ver\")\n",
    "        self.servidor.os_type = n_os_type\n",
    "        super().handle()"
   ]
  },
  {
   "cell_type": "code",
   "execution_count": 31,
   "metadata": {},
   "outputs": [
    {
     "ename": "TypeError",
     "evalue": "__init__() takes 2 positional arguments but 3 were given",
     "output_type": "error",
     "traceback": [
      "\u001b[0;31m---------------------------------------------------------------------------\u001b[0m",
      "\u001b[0;31mTypeError\u001b[0m                                 Traceback (most recent call last)",
      "\u001b[0;32m<ipython-input-31-6cdba965de8a>\u001b[0m in \u001b[0;36m<module>\u001b[0;34m\u001b[0m\n\u001b[1;32m      4\u001b[0m     \u001b[0mroot\u001b[0m \u001b[0;34m=\u001b[0m \u001b[0mServidorModifier\u001b[0m\u001b[0;34m(\u001b[0m\u001b[0mservidor\u001b[0m\u001b[0;34m)\u001b[0m\u001b[0;34m\u001b[0m\u001b[0;34m\u001b[0m\u001b[0m\n\u001b[1;32m      5\u001b[0m \u001b[0;34m\u001b[0m\u001b[0m\n\u001b[0;32m----> 6\u001b[0;31m     \u001b[0mroot\u001b[0m\u001b[0;34m.\u001b[0m\u001b[0madd_modifier\u001b[0m\u001b[0;34m(\u001b[0m\u001b[0mOsVerModifer\u001b[0m\u001b[0;34m(\u001b[0m\u001b[0mservidor\u001b[0m\u001b[0;34m,\u001b[0m \u001b[0;34m'1.0534cd'\u001b[0m\u001b[0;34m)\u001b[0m\u001b[0;34m)\u001b[0m\u001b[0;34m\u001b[0m\u001b[0;34m\u001b[0m\u001b[0m\n\u001b[0m\u001b[1;32m      7\u001b[0m \u001b[0;34m\u001b[0m\u001b[0m\n\u001b[1;32m      8\u001b[0m     \u001b[0mroot\u001b[0m\u001b[0;34m.\u001b[0m\u001b[0mhandle\u001b[0m\u001b[0;34m(\u001b[0m\u001b[0;34m)\u001b[0m\u001b[0;34m\u001b[0m\u001b[0;34m\u001b[0m\u001b[0m\n",
      "\u001b[0;31mTypeError\u001b[0m: __init__() takes 2 positional arguments but 3 were given"
     ]
    }
   ],
   "source": [
    "if __name__ == '__main__':\n",
    "    servidor = Servidor('scxgp2134cld', os_ver='1.0123va', os_type='Linux')\n",
    "    \n",
    "    root = ServidorModifier(servidor)\n",
    "    \n",
    "    root.add_modifier(OsVerModifer(servidor, '1.0534cd'))\n",
    "    \n",
    "    root.handle()\n",
    "    print(servidor)"
   ]
  },
  {
   "cell_type": "code",
   "execution_count": 5,
   "metadata": {},
   "outputs": [
    {
     "name": "stdout",
     "output_type": "stream",
     "text": [
      "Goblin (1/1)\n",
      "No bonuses for you!\n",
      "Goblin (1/1)\n"
     ]
    }
   ],
   "source": [
    "class Creature:\n",
    "    def __init__(self, name, attack, defense):\n",
    "        self.defense = defense\n",
    "        self.attack = attack\n",
    "        self.name = name\n",
    "\n",
    "    def __str__(self):\n",
    "        return f'{self.name} ({self.attack}/{self.defense})'\n",
    "\n",
    "\n",
    "class CreatureModifier:\n",
    "    def __init__(self, creature):\n",
    "        self.creature = creature\n",
    "        self.next_modifier = None\n",
    "\n",
    "    def add_modifier(self, modifier):\n",
    "        if self.next_modifier:\n",
    "            self.next_modifier.add_modifier(modifier)\n",
    "        else:\n",
    "            self.next_modifier = modifier\n",
    "\n",
    "    def handle(self):\n",
    "        if self.next_modifier:\n",
    "            self.next_modifier.handle()\n",
    "\n",
    "\n",
    "class NoBonusesModifier(CreatureModifier):\n",
    "    def handle(self):\n",
    "        print('No bonuses for you!')\n",
    "\n",
    "\n",
    "class DoubleAttackModifier(CreatureModifier):\n",
    "    def handle(self):\n",
    "        print(f'Doubling {self.creature.name}''s attack')\n",
    "        self.creature.attack *= 2\n",
    "        super().handle()\n",
    "\n",
    "\n",
    "class IncreaseDefenseModifier(CreatureModifier):\n",
    "    def handle(self):\n",
    "        if self.creature.attack <= 2:\n",
    "            print(f'Increasing {self.creature.name}''s defense')\n",
    "            self.creature.defense += 1\n",
    "        super().handle()\n",
    "\n",
    "\n",
    "if __name__ == '__main__':\n",
    "    goblin = Creature('Goblin', 1, 1)\n",
    "    print(goblin)\n",
    "\n",
    "    root = CreatureModifier(goblin)\n",
    "\n",
    "    root.add_modifier(NoBonusesModifier(goblin))\n",
    "\n",
    "    root.add_modifier(DoubleAttackModifier(goblin))\n",
    "    root.add_modifier(DoubleAttackModifier(goblin))\n",
    "\n",
    "    # no effect\n",
    "    root.add_modifier(IncreaseDefenseModifier(goblin))\n",
    "\n",
    "    root.handle()  # apply modifiers\n",
    "    print(goblin)"
   ]
  }
 ],
 "metadata": {
  "kernelspec": {
   "display_name": "Python 3",
   "language": "python",
   "name": "python3"
  },
  "language_info": {
   "codemirror_mode": {
    "name": "ipython",
    "version": 3
   },
   "file_extension": ".py",
   "mimetype": "text/x-python",
   "name": "python",
   "nbconvert_exporter": "python",
   "pygments_lexer": "ipython3",
   "version": "3.6.9"
  }
 },
 "nbformat": 4,
 "nbformat_minor": 2
}
