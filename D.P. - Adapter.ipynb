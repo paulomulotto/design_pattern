{
 "cells": [
  {
   "cell_type": "markdown",
   "metadata": {},
   "source": [
    "# Adapter"
   ]
  },
  {
   "cell_type": "markdown",
   "metadata": {},
   "source": [
    "Construtor que adapta uma interface existente X para adaptar-se a interface requerida Y"
   ]
  },
  {
   "cell_type": "markdown",
   "metadata": {},
   "source": [
    "Imagine que você tenha a seguinte API, que desenha apenas o ponto."
   ]
  },
  {
   "cell_type": "code",
   "execution_count": 2,
   "metadata": {},
   "outputs": [],
   "source": [
    "def draw_point(p):\n",
    "    print('.', end='')        "
   ]
  },
  {
   "cell_type": "markdown",
   "metadata": {},
   "source": [
    "Porém você está trabalhando com o código a seguir:"
   ]
  },
  {
   "cell_type": "code",
   "execution_count": 3,
   "metadata": {},
   "outputs": [],
   "source": [
    "class Point:\n",
    "    def __init__(self, x, y):\n",
    "        self.y = y\n",
    "        self.x = x\n",
    "        \n",
    "class Line:\n",
    "    def __init__(self, start, end):\n",
    "        self.end = end\n",
    "        self.start = start\n",
    "        \n",
    "class Rectangle(list):\n",
    "    '''Representa uma lista de linhas'''\n",
    "    \n",
    "    def __init__(self, x, y, width, hegith):\n",
    "        self.append(Line(Point(x, y), Point(x + width, y)))\n",
    "        self.append(Line(Point(x, y), Point(x, y + width)))\n",
    "        self.append(Line(Point(x + width, y), Point(x, y+ width)))\n",
    "        self.append(Line(Point(x, y + width), Point(x + width, y+ width)))"
   ]
  },
  {
   "cell_type": "markdown",
   "metadata": {},
   "source": [
    "Como fazer para utilizar a função de desenho disponibilizada (draw_point), para desenhar o retângulo"
   ]
  },
  {
   "cell_type": "code",
   "execution_count": 4,
   "metadata": {},
   "outputs": [],
   "source": [
    "class LineToPointAdapter(list):\n",
    "    count = 0\n",
    "    \n",
    "    def __init__(self,line):\n",
    "        self.count += 1\n",
    "        print(f'{self.count}: Generating points for line '\n",
    "              f'[{line.start.x},{line.start.y}]→'\n",
    "              f'[{line.end.x},{line.end.y}]')\n",
    "        \n",
    "        left = min(line.start.x, line.end.x)\n",
    "        right = max(line.start.x, line.end.x)\n",
    "        top = min(line.start.y, line.end.y)\n",
    "        bottom = max(line.start.y, line.end.y)\n",
    "        \n",
    "        if right == left:\n",
    "            for y in range(top,bottom):\n",
    "                self.append(Point(left,y))\n",
    "        if top == bottom:\n",
    "            for x in range(left, right):\n",
    "                self.append(Point(x,top))"
   ]
  },
  {
   "cell_type": "code",
   "execution_count": 5,
   "metadata": {},
   "outputs": [],
   "source": [
    "def draw(rcs):\n",
    "    print(\"\\n\\n--- Drawing some stuff ---\\n\")\n",
    "    for rc in rcs:\n",
    "        for line in rc:\n",
    "            adapter = LineToPointAdapter(line)\n",
    "            for p in adapter:\n",
    "                draw_point(p)\n",
    "            print('\\n')"
   ]
  },
  {
   "cell_type": "code",
   "execution_count": 6,
   "metadata": {},
   "outputs": [
    {
     "name": "stdout",
     "output_type": "stream",
     "text": [
      "\n",
      "\n",
      "--- Drawing some stuff ---\n",
      "\n",
      "1: Generating points for line [1,1]→[11,1]\n",
      "..........\n",
      "\n",
      "1: Generating points for line [1,1]→[1,11]\n",
      "..........\n",
      "\n",
      "1: Generating points for line [11,1]→[1,11]\n",
      "\n",
      "\n",
      "1: Generating points for line [1,11]→[11,11]\n",
      "..........\n",
      "\n",
      "1: Generating points for line [3,3]→[9,3]\n",
      "......\n",
      "\n",
      "1: Generating points for line [3,3]→[3,9]\n",
      "......\n",
      "\n",
      "1: Generating points for line [9,3]→[3,9]\n",
      "\n",
      "\n",
      "1: Generating points for line [3,9]→[9,9]\n",
      "......\n",
      "\n",
      "\n",
      "\n",
      "--- Drawing some stuff ---\n",
      "\n",
      "1: Generating points for line [1,1]→[11,1]\n",
      "..........\n",
      "\n",
      "1: Generating points for line [1,1]→[1,11]\n",
      "..........\n",
      "\n",
      "1: Generating points for line [11,1]→[1,11]\n",
      "\n",
      "\n",
      "1: Generating points for line [1,11]→[11,11]\n",
      "..........\n",
      "\n",
      "1: Generating points for line [3,3]→[9,3]\n",
      "......\n",
      "\n",
      "1: Generating points for line [3,3]→[3,9]\n",
      "......\n",
      "\n",
      "1: Generating points for line [9,3]→[3,9]\n",
      "\n",
      "\n",
      "1: Generating points for line [3,9]→[9,9]\n",
      "......\n",
      "\n"
     ]
    }
   ],
   "source": [
    "if __name__ == '__main__':\n",
    "    rs = [\n",
    "        Rectangle(1, 1, 10, 10),\n",
    "        Rectangle(3, 3, 6, 6)\n",
    "    ]\n",
    "    draw(rs)\n",
    "    draw(rs)"
   ]
  },
  {
   "cell_type": "markdown",
   "metadata": {},
   "source": [
    "Para evitar gerar várias vezes as mesmas informações, podemos utilizar um cache para armazenar o que já foi gerado através do adaptador"
   ]
  },
  {
   "cell_type": "code",
   "execution_count": 7,
   "metadata": {},
   "outputs": [],
   "source": [
    "class LineToPointAdapterCache(list):\n",
    "    count = 0\n",
    "    cache = {}\n",
    "    \n",
    "    def __init__(self,line):\n",
    "        self.h = hash(line)\n",
    "        if self.h in self.cache:\n",
    "            return\n",
    "        \n",
    "        self.count += 1\n",
    "        self.count += 1\n",
    "        print(f'{self.count}: Generating points for line '\n",
    "              f'[{line.start.x},{line.start.y}]→'\n",
    "              f'[{line.end.x},{line.end.y}]')\n",
    "        \n",
    "        left = min(line.start.x, line.end.x)\n",
    "        right = max(line.start.x, line.end.x)\n",
    "        top = min(line.start.y, line.end.y)\n",
    "        bottom = max(line.start.y, line.end.y)\n",
    "        \n",
    "        points = []\n",
    "        \n",
    "        if right == left:\n",
    "            for y in range(top,bottom):\n",
    "                points.append(Point(left,y))\n",
    "        if top == bottom:\n",
    "            for x in range(left, right):\n",
    "                points.append(Point(x,top))\n",
    "                \n",
    "        self.cache[self.h] = points\n",
    "        \n",
    "    def __iter__(self):\n",
    "        return iter(self.cache[self.h])"
   ]
  },
  {
   "cell_type": "code",
   "execution_count": 9,
   "metadata": {},
   "outputs": [],
   "source": [
    "def draw(rcs):\n",
    "    print(\"\\n\\n--- Drawing some stuff ---\\n\")\n",
    "    for rc in rcs:\n",
    "        for line in rc:\n",
    "            adapter = LineToPointAdapterCache(line)\n",
    "            for p in adapter:\n",
    "                draw_point(p)\n",
    "            print('\\n')"
   ]
  },
  {
   "cell_type": "code",
   "execution_count": 10,
   "metadata": {},
   "outputs": [
    {
     "name": "stdout",
     "output_type": "stream",
     "text": [
      "\n",
      "\n",
      "--- Drawing some stuff ---\n",
      "\n",
      "2: Generating points for line [1,1]→[11,1]\n",
      "..........\n",
      "\n",
      "2: Generating points for line [1,1]→[1,11]\n",
      "..........\n",
      "\n",
      "2: Generating points for line [11,1]→[1,11]\n",
      "\n",
      "\n",
      "2: Generating points for line [1,11]→[11,11]\n",
      "..........\n",
      "\n",
      "2: Generating points for line [3,3]→[9,3]\n",
      "......\n",
      "\n",
      "2: Generating points for line [3,3]→[3,9]\n",
      "......\n",
      "\n",
      "2: Generating points for line [9,3]→[3,9]\n",
      "\n",
      "\n",
      "2: Generating points for line [3,9]→[9,9]\n",
      "......\n",
      "\n",
      "\n",
      "\n",
      "--- Drawing some stuff ---\n",
      "\n",
      "..........\n",
      "\n",
      "..........\n",
      "\n",
      "\n",
      "\n",
      "..........\n",
      "\n",
      "......\n",
      "\n",
      "......\n",
      "\n",
      "\n",
      "\n",
      "......\n",
      "\n"
     ]
    }
   ],
   "source": [
    "if __name__ == '__main__':\n",
    "    rs = [\n",
    "        Rectangle(1, 1, 10, 10),\n",
    "        Rectangle(3, 3, 6, 6)\n",
    "    ]\n",
    "    draw(rs)\n",
    "    draw(rs)"
   ]
  }
 ],
 "metadata": {
  "kernelspec": {
   "display_name": "Python 3",
   "language": "python",
   "name": "python3"
  },
  "language_info": {
   "codemirror_mode": {
    "name": "ipython",
    "version": 3
   },
   "file_extension": ".py",
   "mimetype": "text/x-python",
   "name": "python",
   "nbconvert_exporter": "python",
   "pygments_lexer": "ipython3",
   "version": "3.6.9"
  }
 },
 "nbformat": 4,
 "nbformat_minor": 2
}
