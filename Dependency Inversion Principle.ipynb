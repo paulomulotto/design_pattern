{
 "cells": [
  {
   "cell_type": "markdown",
   "metadata": {},
   "source": [
    "# Dependency Inversion Principle"
   ]
  },
  {
   "cell_type": "markdown",
   "metadata": {},
   "source": [
    "Um problema muito comum, é termos métodos de baixo nível instanciados em classes de alto nível. Isso prejudica o processo de manutenção, visto que alterações na classe de baixo nível irão quebrar as classes de alto nível que consomem sua estrutura."
   ]
  },
  {
   "cell_type": "code",
   "execution_count": 7,
   "metadata": {},
   "outputs": [],
   "source": [
    "from abc import abstractmethod\n",
    "from enum import Enum\n",
    "\n",
    "\n",
    "class Relationship(Enum):\n",
    "    PARENT = 0\n",
    "    CHILD = 1\n",
    "    SIBLING = 2\n",
    "\n",
    "\n",
    "class Person:\n",
    "    def __init__(self, name):\n",
    "        self.name = name\n",
    "\n",
    "\n",
    "\n",
    "class Relationships:  # low-level\n",
    "    relations = []\n",
    "\n",
    "    def add_parent_and_child(self, parent, child):\n",
    "        self.relations.append((parent, Relationship.PARENT, child))\n",
    "        self.relations.append((child, Relationship.PARENT, parent))"
   ]
  },
  {
   "cell_type": "code",
   "execution_count": 8,
   "metadata": {},
   "outputs": [],
   "source": [
    "class Research:\n",
    "#     dependency on a low-level module directly\n",
    "#     bad because strongly dependent on e.g. storage type\n",
    "\n",
    "    def __init__(self, relationships):\n",
    "        # high-level: find all of john's children\n",
    "        relations = relationships.relations\n",
    "        for r in relations:\n",
    "            if r[0].name == 'John' and r[1] == Relationship.PARENT:\n",
    "                print(f'John has a child called {r[2].name}.')"
   ]
  },
  {
   "cell_type": "markdown",
   "metadata": {},
   "source": [
    "Veja que a classe Research realiza uma busca utilizando o conceito de lista de Relationships. Caso ocorra uma alteração na estrutura de Relationships, a classe Research ficara comprometida."
   ]
  },
  {
   "cell_type": "code",
   "execution_count": 11,
   "metadata": {},
   "outputs": [
    {
     "name": "stdout",
     "output_type": "stream",
     "text": [
      "John has a child called Chris.\n",
      "John has a child called Matt.\n",
      "John has a child called Chris.\n",
      "John has a child called Matt.\n",
      "John has a child called Chris.\n",
      "John has a child called Matt.\n"
     ]
    },
    {
     "data": {
      "text/plain": [
       "<__main__.Research at 0x7fc20c600400>"
      ]
     },
     "execution_count": 11,
     "metadata": {},
     "output_type": "execute_result"
    }
   ],
   "source": [
    "parent = Person('John')\n",
    "child1 = Person('Chris')\n",
    "child2 = Person('Matt')\n",
    "\n",
    "# low-level module\n",
    "relationships = Relationships()\n",
    "relationships.add_parent_and_child(parent, child1)\n",
    "relationships.add_parent_and_child(parent, child2)\n",
    "\n",
    "Research(relationships)"
   ]
  },
  {
   "cell_type": "markdown",
   "metadata": {},
   "source": [
    "O correto é abstrair o método de pesquisa dentro da classe de baixo nível Relationships. Assim, se ocorrer uma mudança em sua estrutura, como utilização de um dicionário por exemplo, para classes que dependem dessa função, o processo será transparente"
   ]
  },
  {
   "cell_type": "code",
   "execution_count": 12,
   "metadata": {},
   "outputs": [],
   "source": [
    "class RelationshipBrowser:\n",
    "    @abstractmethod\n",
    "    def find_all_children_of(self, name): pass\n",
    "\n",
    "\n",
    "class Relationships(RelationshipBrowser):  # low-level\n",
    "    relations = []\n",
    "\n",
    "    def add_parent_and_child(self, parent, child):\n",
    "        self.relations.append((parent, Relationship.PARENT, child))\n",
    "        self.relations.append((child, Relationship.PARENT, parent))\n",
    "            \n",
    "    def find_all_children_of(self, name):\n",
    "        for r in self.relations:\n",
    "            if r[0].name == name and r[1] == Relationship.PARENT:\n",
    "                yield r[2].name\n",
    "\n",
    "class Research:\n",
    "    \n",
    "    def __init__(self, browser):\n",
    "        for p in browser.find_all_children_of(\"John\"):\n",
    "            print(f'John has a child called {p}')\n"
   ]
  },
  {
   "cell_type": "code",
   "execution_count": 13,
   "metadata": {},
   "outputs": [
    {
     "name": "stdout",
     "output_type": "stream",
     "text": [
      "John has a child called Chris\n",
      "John has a child called Matt\n"
     ]
    },
    {
     "data": {
      "text/plain": [
       "<__main__.Research at 0x7fc20c6007f0>"
      ]
     },
     "execution_count": 13,
     "metadata": {},
     "output_type": "execute_result"
    }
   ],
   "source": [
    "parent = Person('John')\n",
    "child1 = Person('Chris')\n",
    "child2 = Person('Matt')\n",
    "\n",
    "# low-level module\n",
    "relationships = Relationships()\n",
    "relationships.add_parent_and_child(parent, child1)\n",
    "relationships.add_parent_and_child(parent, child2)\n",
    "\n",
    "Research(relationships)"
   ]
  },
  {
   "cell_type": "markdown",
   "metadata": {},
   "source": [
    "Nesse modelo, veja que se alterarmos de lista para dicionário no lugar da tupla, a classe Research não é afetada"
   ]
  },
  {
   "cell_type": "code",
   "execution_count": 14,
   "metadata": {},
   "outputs": [],
   "source": [
    "class RelationshipBrowser:\n",
    "    @abstractmethod\n",
    "    def find_all_children_of(self, name): pass\n",
    "\n",
    "\n",
    "class Relationships(RelationshipBrowser):  # low-level\n",
    "    relations = []\n",
    "\n",
    "    def add_parent_and_child(self, parent, child):\n",
    "        self.relations.append({'person': parent, 'rel':Relationship.PARENT,\n",
    "                               'person_l': child})\n",
    "        self.relations.append({'person': child, 'rel': Relationship.PARENT,\n",
    "                               'person_l': parent})\n",
    "            \n",
    "    def find_all_children_of(self, name):\n",
    "        for r in self.relations:\n",
    "            if r['person'].name == name and r['rel'] == Relationship.PARENT:\n",
    "                yield r['person_l'].name"
   ]
  },
  {
   "cell_type": "markdown",
   "metadata": {},
   "source": [
    "Veja que a busca continua funcionando da mesma forma utilizando a nova definição de Relationships"
   ]
  },
  {
   "cell_type": "code",
   "execution_count": 15,
   "metadata": {},
   "outputs": [
    {
     "name": "stdout",
     "output_type": "stream",
     "text": [
      "John has a child called Chris\n",
      "John has a child called Matt\n"
     ]
    },
    {
     "data": {
      "text/plain": [
       "<__main__.Research at 0x7fc20c600e80>"
      ]
     },
     "execution_count": 15,
     "metadata": {},
     "output_type": "execute_result"
    }
   ],
   "source": [
    "# low-level module\n",
    "relationships = Relationships()\n",
    "relationships.add_parent_and_child(parent, child1)\n",
    "relationships.add_parent_and_child(parent, child2)\n",
    "\n",
    "Research(relationships)"
   ]
  }
 ],
 "metadata": {
  "kernelspec": {
   "display_name": "Python 3",
   "language": "python",
   "name": "python3"
  },
  "language_info": {
   "codemirror_mode": {
    "name": "ipython",
    "version": 3
   },
   "file_extension": ".py",
   "mimetype": "text/x-python",
   "name": "python",
   "nbconvert_exporter": "python",
   "pygments_lexer": "ipython3",
   "version": "3.6.9"
  }
 },
 "nbformat": 4,
 "nbformat_minor": 2
}
