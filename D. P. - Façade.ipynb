{
 "cells": [
  {
   "cell_type": "markdown",
   "metadata": {},
   "source": [
    "# Façade"
   ]
  },
  {
   "cell_type": "markdown",
   "metadata": {},
   "source": [
    "Façade cria uma interface mais simples para processos complexos.\n",
    "Permite usuários a utilizar API mais complexas se precisarem"
   ]
  },
  {
   "cell_type": "markdown",
   "metadata": {},
   "source": [
    "### Façade Coding Exercise"
   ]
  },
  {
   "cell_type": "code",
   "execution_count": 10,
   "metadata": {},
   "outputs": [],
   "source": [
    "from random import randint\n",
    "\n",
    "class Generator:\n",
    "  def generate(self, count):\n",
    "    return [randint(1,9) for x in range(count)]\n",
    "\n",
    "class Splitter:\n",
    "  def split(self, array):\n",
    "    result = []\n",
    "\n",
    "    row_count = len(array)\n",
    "    col_count = len(array[0])\n",
    "\n",
    "    for r in range(row_count):\n",
    "      the_row = []\n",
    "      for c in range(col_count):\n",
    "        the_row.append(array[r][c])\n",
    "      result.append(the_row)\n",
    "\n",
    "    for c in range(col_count):\n",
    "      the_col = []\n",
    "      for r in range(row_count):\n",
    "        the_col.append(array[r][c])\n",
    "      result.append(the_col)\n",
    "\n",
    "    diag1 = []\n",
    "    diag2 = []\n",
    "\n",
    "    for c in range(col_count):\n",
    "      for r in range(row_count):\n",
    "        if c == r:\n",
    "          diag1.append(array[r][c])\n",
    "        r2 = row_count - r - 1\n",
    "        if c == r2:\n",
    "          diag2.append(array[r][c])\n",
    "\n",
    "    result.append(diag1)\n",
    "    result.append(diag2)\n",
    "\n",
    "    return result\n",
    "\n",
    "class Verifier:\n",
    "      def verify(self, arrays):\n",
    "        first = sum(arrays[0])\n",
    "\n",
    "        for i in range(1, len(arrays)):\n",
    "            if sum(arrays[i]) != first:\n",
    "                return False\n",
    "\n",
    "        return True\n",
    "\n",
    "class MagicSquareGenerator:\n",
    "      def generate(self, size):\n",
    "        # todo - return a magic square of the given size\n",
    "        magic_squadre = False\n",
    "        while not magic_squadre:\n",
    "            g = Generator()\n",
    "            random_list_1d = g.generate(size)\n",
    "            random_list_2d = [g.generate(size) for e in random_list_1d]\n",
    "\n",
    "\n",
    "            s = Splitter()\n",
    "            arrangements = s.split(random_list_2d)\n",
    "\n",
    "            v = Verifier()\n",
    "            magic_squadre = v.verify(arrangements)\n",
    "            \n",
    "        return arrangements\n"
   ]
  },
  {
   "cell_type": "code",
   "execution_count": 12,
   "metadata": {},
   "outputs": [
    {
     "name": "stdout",
     "output_type": "stream",
     "text": [
      "<__main__.MagicSquareGenerator object at 0x7f8878427828>\n"
     ]
    }
   ],
   "source": [
    "print(MagicSquareGenerator())"
   ]
  }
 ],
 "metadata": {
  "kernelspec": {
   "display_name": "Python 3",
   "language": "python",
   "name": "python3"
  },
  "language_info": {
   "codemirror_mode": {
    "name": "ipython",
    "version": 3
   },
   "file_extension": ".py",
   "mimetype": "text/x-python",
   "name": "python",
   "nbconvert_exporter": "python",
   "pygments_lexer": "ipython3",
   "version": "3.6.9"
  }
 },
 "nbformat": 4,
 "nbformat_minor": 2
}
